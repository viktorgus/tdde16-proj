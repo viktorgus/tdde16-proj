{
  "nbformat": 4,
  "nbformat_minor": 0,
  "metadata": {
    "colab": {
      "name": "Dataset Analysis.ipynb",
      "provenance": []
    },
    "kernelspec": {
      "name": "python3",
      "display_name": "Python 3"
    }
  },
  "cells": [
    {
      "cell_type": "code",
      "metadata": {
        "id": "WUNjdOIIhB5p"
      },
      "source": [
        "!pip install datasets\r\n",
        "!pip install matplotlib\r\n",
        "!python -m spacy download en_core_web_lg\r\n",
        "from datasets import load_dataset\r\n",
        "import spacy "
      ],
      "execution_count": null,
      "outputs": []
    },
    {
      "cell_type": "code",
      "metadata": {
        "id": "FXsZqfj9hMDD"
      },
      "source": [
        "data_name = 'cnn_dailymail'\r\n",
        "dataset = load_dataset(data_name, '3.0.0')\r\n",
        "nlp = spacy.load(\"en_core_web_lg\")"
      ],
      "execution_count": null,
      "outputs": []
    },
    {
      "cell_type": "code",
      "metadata": {
        "id": "mu29WrowhS-n"
      },
      "source": [
        "def n_sentences(txt):\r\n",
        "  doc = nlp(txt) \r\n",
        "  return(len([sent for sent in doc.sents]))\r\n",
        "\r\n",
        "art_lens = []\r\n",
        "sum_lens = []\r\n",
        "\r\n",
        "for x in dataset['test']:\r\n",
        "  art_lens.append(n_sentences(x['article']))\r\n",
        "  sum_lens.append(n_sentences(x['highlights']))"
      ],
      "execution_count": null,
      "outputs": []
    },
    {
      "cell_type": "code",
      "metadata": {
        "colab": {
          "base_uri": "https://localhost:8080/",
          "height": 295
        },
        "id": "FgCpfbtljxUe",
        "outputId": "cb5623f9-1598-4603-a5fb-28ec5f130327"
      },
      "source": [
        "import matplotlib.pyplot as plt\r\n",
        "\r\n",
        "fig = plt.figure()\r\n",
        "ax = fig.add_subplot(111)\r\n",
        "ax.hist(art_lens, histtype = 'stepfilled', color=\"darkblue\")\r\n",
        "ax.set_xlabel('n sentences')\r\n",
        "ax.set_ylabel('Ammount')\r\n",
        "ax.set_title('CNN/Daily Mail Sentence Distrubution')"
      ],
      "execution_count": null,
      "outputs": [
        {
          "output_type": "display_data",
          "data": {
            "image/png": "[encoded data removed]",
            "text/plain": [
              "<Figure size 432x288 with 1 Axes>"
            ]
          },
          "metadata": {
            "tags": [],
            "needs_background": "light"
          }
        }
      ]
    },
    {
      "cell_type": "code",
      "metadata": {
        "colab": {
          "base_uri": "https://localhost:8080/"
        },
        "id": "prT2nxeKxIKe",
        "outputId": "7e370d96-a3e4-4f3a-a098-ff48477386ec"
      },
      "source": [
        "len_filtered = len([l for l in art_lens if l<=60])\r\n",
        "print(f\"Filtered length: {len_filtered}\")\r\n",
        "print(\"Example Data Point\")\r\n",
        "for i in range(len(dataset['test'])):\r\n",
        "  if len(dataset['test'][i]['article'])<500:\r\n",
        "    print(f\"Article:{dataset['test'][i]['article']}\")\r\n",
        "    print(f\"Highlights: {dataset['test'][i]['highlights']}\")\r\n",
        "    break"
      ],
      "execution_count": null,
      "outputs": [
        {
          "output_type": "stream",
          "text": [
            "Filtered length: 9907\n",
            "Example Data Point\n",
            "Article:(CNN)Justin Timberlake and Jessica Biel, welcome to parenthood. The celebrity couple announced the arrival of their son, Silas Randall Timberlake, in statements to People. \"Silas was the middle name of Timberlake's maternal grandfather Bill Bomar, who died in 2012, while Randall is the musician's own middle name, as well as his father's first,\" People reports. The couple announced the pregnancy in January, with an Instagram post. It is the first baby for both.\n",
            "Highlights: Timberlake and Biel welcome son Silas Randall Timberlake .\n",
            "The couple announced the pregnancy in January .\n"
          ],
          "name": "stdout"
        }
      ]
    }
  ]
}